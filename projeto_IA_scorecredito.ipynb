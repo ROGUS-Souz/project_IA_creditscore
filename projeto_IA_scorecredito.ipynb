{
 "cells": [
  {
   "cell_type": "code",
   "execution_count": null,
   "id": "39f375d5",
   "metadata": {},
   "outputs": [],
   "source": [
    "# Projeto que implemente uma IA para a previsão do score de crédito de clientes\n",
    "# Passo 1 - Ver a base de dados e entender os dados\n",
    "import pandas as pd\n",
    "\n",
    "tabela = pd.read_csv('clientes.csv')\n",
    "display(tabela.info())"
   ]
  },
  {
   "cell_type": "code",
   "execution_count": null,
   "id": "25632008",
   "metadata": {},
   "outputs": [],
   "source": [
    "# Passo 2 - Manipular a base de dados com Pandas\n",
    "\n",
    "tabela = tabela.drop(columns='id_cliente')\n",
    "display(tabela.info())"
   ]
  },
  {
   "cell_type": "code",
   "execution_count": null,
   "id": "ca6d5081",
   "metadata": {},
   "outputs": [],
   "source": [
    "# Passo 3 - Prepara a base de dados para a IA\n",
    "from sklearn.preprocessing import LabelEncoder\n",
    "\n",
    "codificador = LabelEncoder()\n",
    "codificador2 = LabelEncoder()\n",
    "codificador3 = LabelEncoder()\n",
    "\n",
    "# IA não entende texto, então precisamos transformar os textos em números\n",
    "\n",
    "# Colunas que precisamos tratar são as que não serão previstas. Colunas: profissao, mix_credito,\n",
    "# comportamento_pagamento\n",
    "\n",
    "# O label encoder transforma texto em números de forma automática e refaz a transformação se necessário\n",
    "# Exemplo: \"Advogado\", \"Médico\", \"Arquiteto\" vira 0, 1, 2\n",
    "\n",
    "# Transformando Profissão\n",
    "tabela['profissao'] = codificador.fit_transform(tabela['profissao'])\n",
    "# Transformando Mix Crédito\n",
    "tabela['mix_credito'] = codificador2.fit_transform(tabela['mix_credito'])\n",
    "# Transformando Comportamento Pagamento\n",
    "tabela['comportamento_pagamento'] = codificador3.fit_transform(tabela['comportamento_pagamento'])\n",
    "\n"
   ]
  },
  {
   "cell_type": "code",
   "execution_count": null,
   "id": "1395cfb8",
   "metadata": {},
   "outputs": [],
   "source": [
    "# Passo 4 - Criar os dados de Treino e a IA usando uma biblioteca de machine learning - Scikit-learn\n",
    "\n",
    "from sklearn.model_selection import train_test_split\n",
    "from sklearn.ensemble import RandomForestClassifier\n",
    "from sklearn.neighbors import KNeighborsClassifier\n",
    "\n",
    "# Dados de treino\n",
    "y = tabela['score_credito']  # O que queremos prever\n",
    "x = tabela.drop(columns='score_credito')  # Dados que temos para prever (Todas as outras colunas)\n",
    "\n",
    "# Dividir os dados em treino e teste\n",
    "\n",
    "x_treino, x_teste, y_treino, y_teste = train_test_split(x, y, test_size=0.3) #test_size é a porcentagem de dados que serão usados para teste\n",
    "\n",
    "# Criar a IA\n",
    "\n",
    "forest = RandomForestClassifier() # Random Forest é um algoritmo de machine learning\n",
    "knn = KNeighborsClassifier() # KNN é outro algoritmo de machine learning\n",
    "\n"
   ]
  },
  {
   "cell_type": "code",
   "execution_count": null,
   "id": "adde5aec",
   "metadata": {},
   "outputs": [],
   "source": [
    "# Passo 5 - Treinar a IA com os dados históricos\n",
    "\n",
    "forest.fit(x_treino, y_treino)\n",
    "knn.fit(x_treino, y_treino)\n",
    "\n"
   ]
  },
  {
   "cell_type": "code",
   "execution_count": null,
   "id": "301e3ca2",
   "metadata": {},
   "outputs": [],
   "source": [
    "# Passo 6 - Selecionar a melhor IA e medir a precisão dela\n",
    "\n",
    "previsao_forest = forest.predict(x_teste)\n",
    "previsao_knn = knn.predict(x_teste)\n",
    "\n",
    "# Para medir a precisão, usamos a métrica de acurácia (accuracy)\n",
    "from sklearn.metrics import accuracy_score\n",
    "display(accuracy_score(y_teste, previsao_forest))\n",
    "display(accuracy_score(y_teste, previsao_knn))"
   ]
  },
  {
   "cell_type": "code",
   "execution_count": null,
   "id": "50827f6d",
   "metadata": {},
   "outputs": [],
   "source": [
    "# Passo 7 - Colocar a IA para previsão do score de crédito de novos clientes\n",
    "\n",
    "# Foi selecionada a Random Forest por ter tido a maior acurácia\n",
    "\n",
    "tabela_novos = pd.read_csv('novos_clientes.csv')\n",
    "display(tabela_novos.info())\n",
    "\n",
    "# Antes de colocar a IA para prever, precisamos tratar os dados da mesma forma que tratamos os dados de treino\n",
    "\n",
    "tabela_novos['profissao'] = codificador.transform(tabela_novos['profissao'])\n",
    "tabela_novos['mix_credito'] = codificador2.transform(tabela_novos['mix_credito'])\n",
    "tabela_novos['comportamento_pagamento'] = codificador3.transform(tabela_novos['comportamento_pagamento'])\n",
    "display(tabela_novos.info())\n",
    "\n",
    "previsao_novos = forest.predict(tabela_novos)\n",
    "tabela_novos['score_credito'] = previsao_novos\n",
    "\n",
    "display(tabela_novos)"
   ]
  }
 ],
 "metadata": {
  "kernelspec": {
   "display_name": "Python 3",
   "language": "python",
   "name": "python3"
  },
  "language_info": {
   "codemirror_mode": {
    "name": "ipython",
    "version": 3
   },
   "file_extension": ".py",
   "mimetype": "text/x-python",
   "name": "python",
   "nbconvert_exporter": "python",
   "pygments_lexer": "ipython3",
   "version": "3.11.9"
  }
 },
 "nbformat": 4,
 "nbformat_minor": 5
}
